{
 "cells": [
  {
   "cell_type": "markdown",
   "metadata": {
    "collapsed": false
   },
   "source": [
    "# Voxel-level Simulations\n",
    "This notebook simulates a single fibre and crossing fibre voxel-level configuration to validate LoRE-SD. Every configuration will be tested at multiple signal-to-noise ratios (SNR) to evaluate the robustness of the method.\n",
    "\n",
    "Some of this code makes use of the MRtrix3 software. Please make sure to have it installed and available in your PATH."
   ]
  },
  {
   "cell_type": "code",
   "execution_count": 1,
   "metadata": {},
   "outputs": [],
   "source": [
    "import os\n",
    "\n",
    "SAVE_DIR = '/LOCALDATA/sleyse4' # Replace with the directory where you want to save the results\n",
    "\n",
    "# We use MRtrix3 for some of the preprocessing steps (e.g. dwi2response and dwi2fod)\n",
    "# Add the MRtrix3 binary directory to the PATH\n",
    "mrtrix_bin_dir = '/SOFTWARE/mrtrix3/bin'  # Replace with the actual path to MRtrix3 binaries\n",
    "os.environ['PATH'] += os.pathsep + mrtrix_bin_dir"
   ]
  },
  {
   "cell_type": "code",
   "execution_count": 2,
   "metadata": {},
   "outputs": [],
   "source": [
    "import sys\n",
    "sys.path.insert(0, '../')"
   ]
  },
  {
   "cell_type": "code",
   "execution_count": 3,
   "metadata": {
    "ExecuteTime": {
     "end_time": "2024-07-17T14:21:52.829643Z",
     "start_time": "2024-07-17T14:21:51.870769Z"
    },
    "collapsed": false
   },
   "outputs": [],
   "source": [
    "import subprocess\n",
    "\n",
    "import numpy as np\n",
    "import matplotlib.pyplot as plt\n",
    "\n",
    "from lore_sd.utils import gradient_utils, math_utils, plot_utils\n",
    "from lore_sd.utils import SphericalHarmonics as sh\n",
    "\n",
    "from lore_sd.simulation import simulation\n",
    "from lore_sd.optimisation import optimise\n",
    "from lore_sd.mrtrix_io.io import load_mrtrix, save_mrtrix\n",
    "from lore_sd.mrtrix_io.io.image import Image"
   ]
  },
  {
   "cell_type": "code",
   "execution_count": 4,
   "metadata": {
    "ExecuteTime": {
     "end_time": "2024-07-17T14:21:52.830290Z",
     "start_time": "2024-07-17T14:21:52.828768Z"
    },
    "collapsed": false
   },
   "outputs": [],
   "source": [
    "# # Add the MRtrix3 binary directory to the PATH\n",
    "# mrtrix_bin_dir = '/SOFTWARE/mrtrix3/bin'  # Replace with the actual path to MRtrix3 binaries\n",
    "# os.environ['PATH'] += os.pathsep + mrtrix_bin_dir"
   ]
  },
  {
   "cell_type": "markdown",
   "metadata": {
    "collapsed": false
   },
   "source": [
    "## Constants"
   ]
  },
  {
   "cell_type": "code",
   "execution_count": 24,
   "metadata": {
    "ExecuteTime": {
     "end_time": "2024-07-17T14:22:04.095084Z",
     "start_time": "2024-07-17T14:21:52.845046Z"
    },
    "collapsed": false
   },
   "outputs": [
    {
     "name": "stderr",
     "output_type": "stream",
     "text": [
      "dirgen: [done] Optimising directions up to power 1 (10 restarts)\u001b[0K[0K\u001b[?7h\n",
      "dirgen: final energy = 1.4142135623730949\n",
      "dirgen: [done] Optimising directions up to power 1 (10 restarts)\u001b[0K[0K\u001b[?7h\u001b[?7l\u001b[?7l\u001b[?7l\u001b[?7l\u001b[?7l\u001b[?7l\n",
      "dirgen: final energy = 15221.712611581414\n",
      "dirgen: [done] Optimising directions up to power 1 (10 restarts)\u001b[0K[0K\u001b[?7h\u001b[?7l\u001b[?7l\u001b[?7l\u001b[?7l\n",
      "dirgen: final energy = 15221.712611572804\n",
      "dirgen: [done] Optimising directions up to power 1 (10 restarts)\u001b[0K[0K\u001b[?7h\u001b[?7l\u001b[?7l\u001b[?7l\u001b[?7l\u001b[?7l\u001b[?7l\u001b[?7l\u001b[?7l\u001b[?7l\u001b[?7l\u001b[?7l\u001b[?7l\u001b[?7l\u001b[?7l\u001b[?7l\u001b[?7l\u001b[?7l\u001b[?7l\u001b[?7l\u001b[?7l\u001b[?7l\u001b[?7l\u001b[?7l\u001b[?7l\u001b[?7l\u001b[?7l\u001b[?7l\u001b[?7l\u001b[?7l\u001b[?7l\u001b[?7l\u001b[?7l\u001b[?7l\u001b[?7l\u001b[?7l\u001b[?7l\u001b[?7l\u001b[?7l\u001b[?7l\u001b[?7l\u001b[?7l\u001b[?7l\u001b[?7l\u001b[?7l\u001b[?7l\u001b[?7l\u001b[?7l\u001b[?7l\u001b[?7l\u001b[?7l\u001b[?7l\u001b[?7l\u001b[?7l\u001b[?7l\u001b[?7l\u001b[?7l\u001b[?7l\u001b[?7l\u001b[?7l\u001b[?7l\u001b[?7l\u001b[?7l\u001b[?7l\u001b[?7l\u001b[?7l\u001b[?7l\u001b[?7l\u001b[?7l\u001b[?7l\u001b[?7l\u001b[?7l\u001b[?7l\u001b[?7l\u001b[?7l\u001b[?7l\u001b[?7l\u001b[?7l\u001b[?7l\u001b[?7l\u001b[?7l\u001b[?7l\u001b[?7l\u001b[?7l\u001b[?7l\u001b[?7l\u001b[?7l\u001b[?7l\u001b[?7l\u001b[?7l\u001b[?7l\u001b[?7l\u001b[?7l\u001b[?7l\u001b[?7l\u001b[?7l\u001b[?7l\u001b[?7l\u001b[?7l\u001b[?7l\u001b[?7l\u001b[?7l\u001b[?7l\u001b[?7l\u001b[?7l\u001b[?7l\u001b[?7l\u001b[?7l\u001b[?7l\u001b[?7l\u001b[?7l\u001b[?7l\u001b[?7l\u001b[?7l\u001b[?7l\u001b[?7l\u001b[?7l\u001b[?7l\u001b[?7l\u001b[?7l\u001b[?7l\u001b[?7l\u001b[?7l\u001b[?7l\u001b[?7l\u001b[?7l\u001b[?7l\u001b[?7l\u001b[?7l\u001b[?7l\u001b[?7l\u001b[?7l\u001b[?7l\u001b[?7l\n",
      "dirgen: final energy = 348368.7158859233\n"
     ]
    }
   ],
   "source": [
    "lmax = 8\n",
    "\n",
    "grad = gradient_utils.create_gradient_table([0, 1000, 2000], [2, 128, 128])\n",
    "bvals = np.unique(np.round(grad[...,-1], -2))\n",
    "\n",
    "# Create and save the transformation matrix to avoid generating it for every experiment\n",
    "Q = optimise.get_transformation_matrix(600, lmax)\n",
    "np.save(os.path.join(SAVE_DIR, 'Q.npy'), Q)"
   ]
  },
  {
   "cell_type": "code",
   "execution_count": 25,
   "metadata": {},
   "outputs": [
    {
     "name": "stdout",
     "output_type": "stream",
     "text": [
      "b-value   |   count   \n",
      "----------------------\n",
      "    0     |   2\n",
      " 1000     |   128\n",
      " 2000     |   128\n"
     ]
    }
   ],
   "source": [
    "\n",
    "gradient_utils.pretty_print_gradient_table(grad)\n",
    "\n",
    "# Multiprocessing reduces the time to run the simulations\n",
    "cores = 10"
   ]
  },
  {
   "cell_type": "code",
   "execution_count": 26,
   "metadata": {
    "ExecuteTime": {
     "end_time": "2024-07-17T14:22:04.096123Z",
     "start_time": "2024-07-17T14:22:04.092981Z"
    },
    "collapsed": false
   },
   "outputs": [],
   "source": [
    "# LoRE-SD Parameters\n",
    "reg = 1e-3\n",
    "\n",
    "axial_diffusivities = np.linspace(0, 4e-3, 10)\n",
    "radial_diffusivities = np.linspace(0, 4e-3, 10)\n",
    "\n",
    "gaussians = optimise.get_gaussians(axial_diffusivities, radial_diffusivities, bvals, lmax)"
   ]
  },
  {
   "cell_type": "markdown",
   "metadata": {
    "collapsed": false
   },
   "source": [
    "## Simulated Configurations\n",
    "The following fibre configurations will be simulated:\n",
    "1. Single Fibre\n",
    "2. Crossing Fibres at 60 degrees\n",
    "\n",
    "The response function will be a combination of a stick, zeppelin and water compartments with 45%, 45% and 10% volume fraction respectively.\n",
    "* Stick compartment: $ \\lambda_\\parallel = 2.2 \\mu m^2/ms$, $\\lambda_\\perp = 0 \\mu m^2 / ms$\n",
    "* Zeppelin compartment: $\\lambda_\\parallel = 2 \\mu m^2/ms$, $\\lambda_\\perp = 0.7e \\mu m^2/ms$\n",
    "* Water compartment: $\\lambda_\\parallel = \\lambda_\\perp = 3 \\mu m^2 / ms$."
   ]
  },
  {
   "cell_type": "code",
   "execution_count": 27,
   "metadata": {
    "ExecuteTime": {
     "end_time": "2024-07-17T14:22:04.096478Z",
     "start_time": "2024-07-17T14:22:04.095910Z"
    },
    "collapsed": false
   },
   "outputs": [],
   "source": [
    "# Single Fibre ODF\n",
    "single_fibre = simulation.getOrientedApodizedDirac(0, 0, lmax)\n",
    "# Crossing Fibre ODF at 60 degrees\n",
    "crossing_60 = .5*simulation.getOrientedApodizedDirac(0, 0, lmax) + .5*simulation.getOrientedApodizedDirac(60, 0, lmax)"
   ]
  },
  {
   "cell_type": "code",
   "execution_count": 28,
   "metadata": {
    "ExecuteTime": {
     "end_time": "2024-07-17T14:22:04.096623Z",
     "start_time": "2024-07-17T14:22:04.096371Z"
    },
    "collapsed": false
   },
   "outputs": [],
   "source": [
    "stick = sh.zhgaussian(bvals, 2.2e-3, 0)\n",
    "zeppelin = sh.zhgaussian(bvals, 2e-3, .7e-3)\n",
    "water = sh.zhgaussian(bvals, 3e-3, 3e-3)\n",
    "\n",
    "sane_rf = .45*stick + .45*zeppelin + .1*water"
   ]
  },
  {
   "cell_type": "code",
   "execution_count": 29,
   "metadata": {
    "ExecuteTime": {
     "end_time": "2024-07-17T14:22:04.757945Z",
     "start_time": "2024-07-17T14:22:04.096567Z"
    },
    "collapsed": false
   },
   "outputs": [
    {
     "data": {
      "text/plain": [
       "Text(0.5, 1.0, 'Response Function')"
      ]
     },
     "execution_count": 29,
     "metadata": {},
     "output_type": "execute_result"
    },
    {
     "data": {
      "image/png": "[encoded data removed]",
      "text/plain": [
       "<Figure size 640x480 with 3 Axes>"
      ]
     },
     "metadata": {},
     "output_type": "display_data"
    }
   ],
   "source": [
    "fig = plt.figure()\n",
    "\n",
    "gridspec = fig.add_gridspec(nrows=1, ncols=3)\n",
    "ax_single_fibre = fig.add_subplot(gridspec[0,0], projection='polar')\n",
    "ax_crossing_fibre = fig.add_subplot(gridspec[0,1], projection='polar')\n",
    "ax_response = fig.add_subplot(gridspec[0,2], projection='polar')\n",
    "\n",
    "sh.plot_odf_on_axis(single_fibre, ax=ax_single_fibre)\n",
    "sh.plot_odf_on_axis(crossing_60, ax=ax_crossing_fibre)\n",
    "sh.plot_wmr_on_axis(sane_rf, bvals, ax=ax_response)\n",
    "\n",
    "ax_single_fibre.set_title('Single Fibre')\n",
    "ax_crossing_fibre.set_title(r'Crossing Fibre ($60\\degree$)')\n",
    "ax_response.set_title('Response Function')"
   ]
  },
  {
   "cell_type": "markdown",
   "metadata": {
    "collapsed": false
   },
   "source": [
    "## Simulation Functions\n",
    "Functions to simulate a single voxel with a given fibre configuration and SNR. The function `add_noise` adds Rician noise to the signal. The function `run_msst_csd` estimates the ODF using MSMT-CSD. The function `run_simulation` simulates the voxel and estimates the ODF using LoRE-SD and MSMT-CSD."
   ]
  },
  {
   "cell_type": "code",
   "execution_count": 30,
   "metadata": {
    "ExecuteTime": {
     "end_time": "2024-07-17T14:22:04.758195Z",
     "start_time": "2024-07-17T14:22:04.757244Z"
    },
    "collapsed": false
   },
   "outputs": [],
   "source": [
    "def add_noise(noise_free, grad, snr):\n",
    "    \"\"\"\n",
    "    Add Gaussian noise or Rician noise to a signal.\n",
    "\n",
    "    Returns:\n",
    "        numpy.ndarray: A signal with added Gaussian/Rician noise.\n",
    "    \"\"\"\n",
    "\n",
    "    mean_b0 = np.mean(noise_free[..., np.where(grad[...,-1] == 0)[0]])\n",
    "\n",
    "    std_noise = mean_b0 / snr\n",
    "    noise1 = np.random.normal(0, std_noise, size=noise_free.shape)\n",
    "    noise2 = np.random.normal(0, std_noise, size=noise_free.shape)\n",
    "    noisy_dwi = np.sqrt((noise_free + noise1)**2 + noise2**2)\n",
    "\n",
    "    return noisy_dwi"
   ]
  },
  {
   "cell_type": "code",
   "execution_count": 31,
   "metadata": {
    "ExecuteTime": {
     "end_time": "2024-07-17T14:22:04.758344Z",
     "start_time": "2024-07-17T14:22:04.757776Z"
    },
    "collapsed": false
   },
   "outputs": [],
   "source": [
    "def run_msmt_csd(dwi, mask, rf, odf_out, pred_out):\n",
    "    # Run the MSMT-CSD algorithm\n",
    "    csd_cmd = f'dwi2fod msmt_csd {dwi} {rf} {odf_out} -predicted_signal {pred_out} -mask {mask} -force'\n",
    "    subprocess.run(csd_cmd, shell=True)\n",
    "\n",
    "def run_lore_sd(dwi, mask, odf_out, pred_out, rf_out):\n",
    "    # Run the LoRE-SD algorithm (including the previously generated transformation matrix)\n",
    "    lore_cmd = (\n",
    "        f'dwi2decomposition {dwi} '\n",
    "        f'{os.path.dirname(odf_out)} --cores 10 --mask {mask} --eval_matrix {os.path.join(SAVE_DIR, \"Q.npy\")}'\n",
    "    )\n",
    "    subprocess.run(lore_cmd, shell=True)\n",
    "    subprocess.run(f'mv {os.path.join(os.path.dirname(odf_out), \"odf.mif\")} {odf_out}', shell=True)\n",
    "    subprocess.run(f'mv {os.path.join(os.path.dirname(odf_out), \"reconstructed.mif\")} {pred_out}', shell=True)\n",
    "    subprocess.run(f'mv {os.path.join(os.path.dirname(odf_out), \"response.mif\")} {rf_out}', shell=True)\n"
   ]
  },
  {
   "cell_type": "markdown",
   "metadata": {
    "collapsed": false
   },
   "source": [
    "### Simulation Variables"
   ]
  },
  {
   "cell_type": "code",
   "execution_count": 32,
   "metadata": {
    "ExecuteTime": {
     "end_time": "2024-07-17T14:22:04.758460Z",
     "start_time": "2024-07-17T14:22:04.758123Z"
    },
    "collapsed": false
   },
   "outputs": [],
   "source": [
    "num_its_simulation = 500\n",
    "\n",
    "snrs = [10, 20, 50, np.inf]\n",
    "\n",
    "noise_free_single_fibre_voxel = sh.calcdwi(sh.sphconv(sane_rf, single_fibre), grad)\n",
    "noise_free_single_fibre_dwi = np.repeat(noise_free_single_fibre_voxel[np.newaxis,...],\n",
    "                                        num_its_simulation, axis=0).reshape((num_its_simulation, 1, 1, -1))\n",
    "\n",
    "\n",
    "noise_free_crossing_60_voxel = sh.calcdwi(sh.sphconv(sane_rf, crossing_60), grad)\n",
    "noise_free_crossing_60_dwi = np.repeat(noise_free_crossing_60_voxel[np.newaxis,...],\n",
    "                                       num_its_simulation, axis=0).reshape((num_its_simulation, 1, 1, -1))"
   ]
  },
  {
   "cell_type": "code",
   "execution_count": 33,
   "metadata": {
    "ExecuteTime": {
     "end_time": "2024-07-17T14:22:04.758563Z",
     "start_time": "2024-07-17T14:22:04.758279Z"
    },
    "collapsed": false
   },
   "outputs": [],
   "source": [
    "# Since this is a simulation, all voxels belong to the mask\n",
    "mask = np.ones(noise_free_single_fibre_dwi.shape[:-1], dtype=bool)"
   ]
  },
  {
   "cell_type": "markdown",
   "metadata": {
    "collapsed": false
   },
   "source": [
    "# Simulations"
   ]
  },
  {
   "cell_type": "code",
   "execution_count": 34,
   "metadata": {},
   "outputs": [],
   "source": [
    "np.savetxt(os.path.join(SAVE_DIR, 'response.txt'), sane_rf)"
   ]
  },
  {
   "cell_type": "code",
   "execution_count": 35,
   "metadata": {
    "ExecuteTime": {
     "end_time": "2024-07-17T14:24:27.863278Z",
     "start_time": "2024-07-17T14:22:04.758502Z"
    },
    "collapsed": false
   },
   "outputs": [
    {
     "name": "stdout",
     "output_type": "stream",
     "text": [
      "Regularisation: 0.001\n",
      "Grid size: 10 x 10\n"
     ]
    },
    {
     "name": "stderr",
     "output_type": "stream",
     "text": [
      "100%|██████████| 500/500 [00:01<00:00, 302.44it/s]\n",
      "multiprocessing.pool.RemoteTraceback: \n",
      "\"\"\"\n",
      "Traceback (most recent call last):\n",
      "  File \"/opt/anaconda/anaconda3/lib/python3.9/multiprocessing/pool.py\", line 125, in worker\n",
      "    result = (True, func(*args, **kwds))\n",
      "  File \"/opt/anaconda/anaconda3/lib/python3.9/multiprocessing/pool.py\", line 51, in starmapstar\n",
      "    return list(itertools.starmap(args[0], args[1]))\n",
      "  File \"/home/sleyse4/repos/LoRE_SD/src/lore_sd/optimisation/optimise.py\", line 160, in decompose_voxel\n",
      "    init, bounds = get_init_and_bounds_from_csd(lmax, Da, Dr, gaussians, S, [constraints.non_negative_odf(Q)])\n",
      "  File \"/home/sleyse4/repos/LoRE_SD/src/lore_sd/optimisation/optimise.py\", line 207, in get_init_and_bounds_from_csd\n",
      "    init_rf = np.einsum('a, acd -> cd', init_fs, scaled_gaussians)\n",
      "  File \"<__array_function__ internals>\", line 5, in einsum\n",
      "  File \"/opt/anaconda/anaconda3/lib/python3.9/site-packages/numpy/core/einsumfunc.py\", line 1359, in einsum\n",
      "    return c_einsum(*operands, **kwargs)\n",
      "ValueError: operand has more dimensions than subscripts given in einstein sum, but no '...' ellipsis provided to broadcast the extra dimensions.\n",
      "\"\"\"\n",
      "\n",
      "The above exception was the direct cause of the following exception:\n",
      "\n",
      "Traceback (most recent call last):\n",
      "  File \"/home/sleyse4/.local/bin/dwi2decomposition\", line 33, in <module>\n",
      "    sys.exit(load_entry_point('lore-sd', 'console_scripts', 'dwi2decomposition')())\n",
      "  File \"/home/sleyse4/repos/LoRE_SD/src/lore_sd/dwi2decomposition.py\", line 135, in main\n",
      "    out = optimise.get_signal_decomposition(dwi, mask, grad, ad_list, rd_list, args.reg, Q=Q, cores=cores)\n",
      "  File \"/home/sleyse4/repos/LoRE_SD/src/lore_sd/optimisation/optimise.py\", line 63, in get_signal_decomposition\n",
      "    results = pool.starmap(decompose_voxel, tqdm.tqdm(args, total=len(args)), chunksize=1)\n",
      "  File \"/opt/anaconda/anaconda3/lib/python3.9/multiprocessing/pool.py\", line 372, in starmap\n",
      "    return self._map_async(func, iterable, starmapstar, chunksize).get()\n",
      "  File \"/opt/anaconda/anaconda3/lib/python3.9/multiprocessing/pool.py\", line 771, in get\n",
      "    raise self._value\n",
      "ValueError: operand has more dimensions than subscripts given in einstein sum, but no '...' ellipsis provided to broadcast the extra dimensions.\n",
      "mv: cannot stat '/LOCALDATA/sleyse4/odf.mif': No such file or directory\n",
      "mv: cannot stat '/LOCALDATA/sleyse4/reconstructed.mif': No such file or directory\n",
      "mv: cannot stat '/LOCALDATA/sleyse4/response.mif': No such file or directory\n",
      "dwi2fod: \u001b[00;31m[WARNING] existing output files will be overwritten\u001b[0m\n",
      "dwi2fod: [100%] preloading data for \"/LOCALDATA/sleyse4/single_10.mif\"\u001b[0K\n",
      "dwi2fod: [100%] performing MSMT CSD (3 shells, 1 tissue)\u001b[0K[0K\u001b[?7h\n"
     ]
    },
    {
     "name": "stdout",
     "output_type": "stream",
     "text": [
      "Regularisation: 0.001\n",
      "Grid size: 10 x 10\n"
     ]
    },
    {
     "name": "stderr",
     "output_type": "stream",
     "text": [
      "100%|██████████| 500/500 [00:01<00:00, 299.71it/s]\n",
      "multiprocessing.pool.RemoteTraceback: \n",
      "\"\"\"\n",
      "Traceback (most recent call last):\n",
      "  File \"/opt/anaconda/anaconda3/lib/python3.9/multiprocessing/pool.py\", line 125, in worker\n",
      "    result = (True, func(*args, **kwds))\n",
      "  File \"/opt/anaconda/anaconda3/lib/python3.9/multiprocessing/pool.py\", line 51, in starmapstar\n",
      "    return list(itertools.starmap(args[0], args[1]))\n",
      "  File \"/home/sleyse4/repos/LoRE_SD/src/lore_sd/optimisation/optimise.py\", line 160, in decompose_voxel\n",
      "    init, bounds = get_init_and_bounds_from_csd(lmax, Da, Dr, gaussians, S, [constraints.non_negative_odf(Q)])\n",
      "  File \"/home/sleyse4/repos/LoRE_SD/src/lore_sd/optimisation/optimise.py\", line 207, in get_init_and_bounds_from_csd\n",
      "    init_rf = np.einsum('a, acd -> cd', init_fs, scaled_gaussians)\n",
      "  File \"<__array_function__ internals>\", line 5, in einsum\n",
      "  File \"/opt/anaconda/anaconda3/lib/python3.9/site-packages/numpy/core/einsumfunc.py\", line 1359, in einsum\n",
      "    return c_einsum(*operands, **kwargs)\n",
      "ValueError: operand has more dimensions than subscripts given in einstein sum, but no '...' ellipsis provided to broadcast the extra dimensions.\n",
      "\"\"\"\n",
      "\n",
      "The above exception was the direct cause of the following exception:\n",
      "\n",
      "Traceback (most recent call last):\n",
      "  File \"/home/sleyse4/.local/bin/dwi2decomposition\", line 33, in <module>\n",
      "    sys.exit(load_entry_point('lore-sd', 'console_scripts', 'dwi2decomposition')())\n",
      "  File \"/home/sleyse4/repos/LoRE_SD/src/lore_sd/dwi2decomposition.py\", line 135, in main\n",
      "    out = optimise.get_signal_decomposition(dwi, mask, grad, ad_list, rd_list, args.reg, Q=Q, cores=cores)\n",
      "  File \"/home/sleyse4/repos/LoRE_SD/src/lore_sd/optimisation/optimise.py\", line 63, in get_signal_decomposition\n",
      "    results = pool.starmap(decompose_voxel, tqdm.tqdm(args, total=len(args)), chunksize=1)\n",
      "  File \"/opt/anaconda/anaconda3/lib/python3.9/multiprocessing/pool.py\", line 372, in starmap\n",
      "    return self._map_async(func, iterable, starmapstar, chunksize).get()\n",
      "  File \"/opt/anaconda/anaconda3/lib/python3.9/multiprocessing/pool.py\", line 771, in get\n",
      "    raise self._value\n",
      "ValueError: operand has more dimensions than subscripts given in einstein sum, but no '...' ellipsis provided to broadcast the extra dimensions.\n",
      "mv: cannot stat '/LOCALDATA/sleyse4/odf.mif': No such file or directory\n",
      "mv: cannot stat '/LOCALDATA/sleyse4/reconstructed.mif': No such file or directory\n",
      "mv: cannot stat '/LOCALDATA/sleyse4/response.mif': No such file or directory\n",
      "dwi2fod: \u001b[00;31m[WARNING] existing output files will be overwritten\u001b[0m\n",
      "dwi2fod: [100%] preloading data for \"/LOCALDATA/sleyse4/crossing_10.mif\"\u001b[0K\n",
      "dwi2fod: [100%] performing MSMT CSD (3 shells, 1 tissue)\u001b[0K[0K\u001b[?7h\n"
     ]
    },
    {
     "name": "stdout",
     "output_type": "stream",
     "text": [
      "Regularisation: 0.001\n",
      "Grid size: 10 x 10\n"
     ]
    },
    {
     "name": "stderr",
     "output_type": "stream",
     "text": [
      "100%|██████████| 500/500 [00:01<00:00, 290.14it/s]\n",
      "multiprocessing.pool.RemoteTraceback: \n",
      "\"\"\"\n",
      "Traceback (most recent call last):\n",
      "  File \"/opt/anaconda/anaconda3/lib/python3.9/multiprocessing/pool.py\", line 125, in worker\n",
      "    result = (True, func(*args, **kwds))\n",
      "  File \"/opt/anaconda/anaconda3/lib/python3.9/multiprocessing/pool.py\", line 51, in starmapstar\n",
      "    return list(itertools.starmap(args[0], args[1]))\n",
      "  File \"/home/sleyse4/repos/LoRE_SD/src/lore_sd/optimisation/optimise.py\", line 160, in decompose_voxel\n",
      "    init, bounds = get_init_and_bounds_from_csd(lmax, Da, Dr, gaussians, S, [constraints.non_negative_odf(Q)])\n",
      "  File \"/home/sleyse4/repos/LoRE_SD/src/lore_sd/optimisation/optimise.py\", line 207, in get_init_and_bounds_from_csd\n",
      "    init_rf = np.einsum('a, acd -> cd', init_fs, scaled_gaussians)\n",
      "  File \"<__array_function__ internals>\", line 5, in einsum\n",
      "  File \"/opt/anaconda/anaconda3/lib/python3.9/site-packages/numpy/core/einsumfunc.py\", line 1359, in einsum\n",
      "    return c_einsum(*operands, **kwargs)\n",
      "ValueError: operand has more dimensions than subscripts given in einstein sum, but no '...' ellipsis provided to broadcast the extra dimensions.\n",
      "\"\"\"\n",
      "\n",
      "The above exception was the direct cause of the following exception:\n",
      "\n",
      "Traceback (most recent call last):\n",
      "  File \"/home/sleyse4/.local/bin/dwi2decomposition\", line 33, in <module>\n",
      "    sys.exit(load_entry_point('lore-sd', 'console_scripts', 'dwi2decomposition')())\n",
      "  File \"/home/sleyse4/repos/LoRE_SD/src/lore_sd/dwi2decomposition.py\", line 135, in main\n",
      "    out = optimise.get_signal_decomposition(dwi, mask, grad, ad_list, rd_list, args.reg, Q=Q, cores=cores)\n",
      "  File \"/home/sleyse4/repos/LoRE_SD/src/lore_sd/optimisation/optimise.py\", line 63, in get_signal_decomposition\n",
      "    results = pool.starmap(decompose_voxel, tqdm.tqdm(args, total=len(args)), chunksize=1)\n",
      "  File \"/opt/anaconda/anaconda3/lib/python3.9/multiprocessing/pool.py\", line 372, in starmap\n",
      "    return self._map_async(func, iterable, starmapstar, chunksize).get()\n",
      "  File \"/opt/anaconda/anaconda3/lib/python3.9/multiprocessing/pool.py\", line 771, in get\n",
      "    raise self._value\n",
      "ValueError: operand has more dimensions than subscripts given in einstein sum, but no '...' ellipsis provided to broadcast the extra dimensions.\n",
      "mv: cannot stat '/LOCALDATA/sleyse4/odf.mif': No such file or directory\n",
      "mv: cannot stat '/LOCALDATA/sleyse4/reconstructed.mif': No such file or directory\n",
      "mv: cannot stat '/LOCALDATA/sleyse4/response.mif': No such file or directory\n",
      "dwi2fod: \u001b[00;31m[WARNING] existing output files will be overwritten\u001b[0m\n",
      "dwi2fod: [100%] preloading data for \"/LOCALDATA/sleyse4/single_20.mif\"\u001b[0K\n",
      "dwi2fod: [100%] performing MSMT CSD (3 shells, 1 tissue)\u001b[0K[0K\u001b[?7h\n"
     ]
    },
    {
     "name": "stdout",
     "output_type": "stream",
     "text": [
      "Regularisation: 0.001\n",
      "Grid size: 10 x 10\n"
     ]
    },
    {
     "name": "stderr",
     "output_type": "stream",
     "text": [
      "100%|██████████| 500/500 [00:01<00:00, 282.11it/s]\n",
      "multiprocessing.pool.RemoteTraceback: \n",
      "\"\"\"\n",
      "Traceback (most recent call last):\n",
      "  File \"/opt/anaconda/anaconda3/lib/python3.9/multiprocessing/pool.py\", line 125, in worker\n",
      "    result = (True, func(*args, **kwds))\n",
      "  File \"/opt/anaconda/anaconda3/lib/python3.9/multiprocessing/pool.py\", line 51, in starmapstar\n",
      "    return list(itertools.starmap(args[0], args[1]))\n",
      "  File \"/home/sleyse4/repos/LoRE_SD/src/lore_sd/optimisation/optimise.py\", line 160, in decompose_voxel\n",
      "    init, bounds = get_init_and_bounds_from_csd(lmax, Da, Dr, gaussians, S, [constraints.non_negative_odf(Q)])\n",
      "  File \"/home/sleyse4/repos/LoRE_SD/src/lore_sd/optimisation/optimise.py\", line 207, in get_init_and_bounds_from_csd\n",
      "    init_rf = np.einsum('a, acd -> cd', init_fs, scaled_gaussians)\n",
      "  File \"<__array_function__ internals>\", line 5, in einsum\n",
      "  File \"/opt/anaconda/anaconda3/lib/python3.9/site-packages/numpy/core/einsumfunc.py\", line 1359, in einsum\n",
      "    return c_einsum(*operands, **kwargs)\n",
      "ValueError: operand has more dimensions than subscripts given in einstein sum, but no '...' ellipsis provided to broadcast the extra dimensions.\n",
      "\"\"\"\n",
      "\n",
      "The above exception was the direct cause of the following exception:\n",
      "\n",
      "Traceback (most recent call last):\n",
      "  File \"/home/sleyse4/.local/bin/dwi2decomposition\", line 33, in <module>\n",
      "    sys.exit(load_entry_point('lore-sd', 'console_scripts', 'dwi2decomposition')())\n",
      "  File \"/home/sleyse4/repos/LoRE_SD/src/lore_sd/dwi2decomposition.py\", line 135, in main\n",
      "    out = optimise.get_signal_decomposition(dwi, mask, grad, ad_list, rd_list, args.reg, Q=Q, cores=cores)\n",
      "  File \"/home/sleyse4/repos/LoRE_SD/src/lore_sd/optimisation/optimise.py\", line 63, in get_signal_decomposition\n",
      "    results = pool.starmap(decompose_voxel, tqdm.tqdm(args, total=len(args)), chunksize=1)\n",
      "  File \"/opt/anaconda/anaconda3/lib/python3.9/multiprocessing/pool.py\", line 372, in starmap\n",
      "    return self._map_async(func, iterable, starmapstar, chunksize).get()\n",
      "  File \"/opt/anaconda/anaconda3/lib/python3.9/multiprocessing/pool.py\", line 771, in get\n",
      "    raise self._value\n",
      "ValueError: operand has more dimensions than subscripts given in einstein sum, but no '...' ellipsis provided to broadcast the extra dimensions.\n",
      "mv: cannot stat '/LOCALDATA/sleyse4/odf.mif': No such file or directory\n",
      "mv: cannot stat '/LOCALDATA/sleyse4/reconstructed.mif': No such file or directory\n",
      "mv: cannot stat '/LOCALDATA/sleyse4/response.mif': No such file or directory\n",
      "dwi2fod: \u001b[00;31m[WARNING] existing output files will be overwritten\u001b[0m\n",
      "dwi2fod: [100%] preloading data for \"/LOCALDATA/sleyse4/crossing_20.mif\"\u001b[0K\n",
      "dwi2fod: [100%] performing MSMT CSD (3 shells, 1 tissue)\u001b[0K[0K\u001b[?7h\n"
     ]
    },
    {
     "name": "stdout",
     "output_type": "stream",
     "text": [
      "Regularisation: 0.001\n",
      "Grid size: 10 x 10\n"
     ]
    },
    {
     "name": "stderr",
     "output_type": "stream",
     "text": [
      "100%|██████████| 500/500 [00:01<00:00, 291.90it/s]\n",
      "multiprocessing.pool.RemoteTraceback: \n",
      "\"\"\"\n",
      "Traceback (most recent call last):\n",
      "  File \"/opt/anaconda/anaconda3/lib/python3.9/multiprocessing/pool.py\", line 125, in worker\n",
      "    result = (True, func(*args, **kwds))\n",
      "  File \"/opt/anaconda/anaconda3/lib/python3.9/multiprocessing/pool.py\", line 51, in starmapstar\n",
      "    return list(itertools.starmap(args[0], args[1]))\n",
      "  File \"/home/sleyse4/repos/LoRE_SD/src/lore_sd/optimisation/optimise.py\", line 160, in decompose_voxel\n",
      "    init, bounds = get_init_and_bounds_from_csd(lmax, Da, Dr, gaussians, S, [constraints.non_negative_odf(Q)])\n",
      "  File \"/home/sleyse4/repos/LoRE_SD/src/lore_sd/optimisation/optimise.py\", line 207, in get_init_and_bounds_from_csd\n",
      "    init_rf = np.einsum('a, acd -> cd', init_fs, scaled_gaussians)\n",
      "  File \"<__array_function__ internals>\", line 5, in einsum\n",
      "  File \"/opt/anaconda/anaconda3/lib/python3.9/site-packages/numpy/core/einsumfunc.py\", line 1359, in einsum\n",
      "    return c_einsum(*operands, **kwargs)\n",
      "ValueError: operand has more dimensions than subscripts given in einstein sum, but no '...' ellipsis provided to broadcast the extra dimensions.\n",
      "\"\"\"\n",
      "\n",
      "The above exception was the direct cause of the following exception:\n",
      "\n",
      "Traceback (most recent call last):\n",
      "  File \"/home/sleyse4/.local/bin/dwi2decomposition\", line 33, in <module>\n",
      "    sys.exit(load_entry_point('lore-sd', 'console_scripts', 'dwi2decomposition')())\n",
      "  File \"/home/sleyse4/repos/LoRE_SD/src/lore_sd/dwi2decomposition.py\", line 135, in main\n",
      "    out = optimise.get_signal_decomposition(dwi, mask, grad, ad_list, rd_list, args.reg, Q=Q, cores=cores)\n",
      "  File \"/home/sleyse4/repos/LoRE_SD/src/lore_sd/optimisation/optimise.py\", line 63, in get_signal_decomposition\n",
      "    results = pool.starmap(decompose_voxel, tqdm.tqdm(args, total=len(args)), chunksize=1)\n",
      "  File \"/opt/anaconda/anaconda3/lib/python3.9/multiprocessing/pool.py\", line 372, in starmap\n",
      "    return self._map_async(func, iterable, starmapstar, chunksize).get()\n",
      "  File \"/opt/anaconda/anaconda3/lib/python3.9/multiprocessing/pool.py\", line 771, in get\n",
      "    raise self._value\n",
      "ValueError: operand has more dimensions than subscripts given in einstein sum, but no '...' ellipsis provided to broadcast the extra dimensions.\n",
      "mv: cannot stat '/LOCALDATA/sleyse4/odf.mif': No such file or directory\n",
      "mv: cannot stat '/LOCALDATA/sleyse4/reconstructed.mif': No such file or directory\n",
      "mv: cannot stat '/LOCALDATA/sleyse4/response.mif': No such file or directory\n",
      "dwi2fod: \u001b[00;31m[WARNING] existing output files will be overwritten\u001b[0m\n",
      "dwi2fod: [100%] preloading data for \"/LOCALDATA/sleyse4/single_50.mif\"\u001b[0K\n",
      "dwi2fod: [100%] performing MSMT CSD (3 shells, 1 tissue)\u001b[0K[0K\u001b[?7h\n"
     ]
    },
    {
     "name": "stdout",
     "output_type": "stream",
     "text": [
      "Regularisation: 0.001\n",
      "Grid size: 10 x 10\n"
     ]
    },
    {
     "name": "stderr",
     "output_type": "stream",
     "text": [
      "100%|██████████| 500/500 [00:01<00:00, 306.57it/s]\n",
      "multiprocessing.pool.RemoteTraceback: \n",
      "\"\"\"\n",
      "Traceback (most recent call last):\n",
      "  File \"/opt/anaconda/anaconda3/lib/python3.9/multiprocessing/pool.py\", line 125, in worker\n",
      "    result = (True, func(*args, **kwds))\n",
      "  File \"/opt/anaconda/anaconda3/lib/python3.9/multiprocessing/pool.py\", line 51, in starmapstar\n",
      "    return list(itertools.starmap(args[0], args[1]))\n",
      "  File \"/home/sleyse4/repos/LoRE_SD/src/lore_sd/optimisation/optimise.py\", line 160, in decompose_voxel\n",
      "    init, bounds = get_init_and_bounds_from_csd(lmax, Da, Dr, gaussians, S, [constraints.non_negative_odf(Q)])\n",
      "  File \"/home/sleyse4/repos/LoRE_SD/src/lore_sd/optimisation/optimise.py\", line 207, in get_init_and_bounds_from_csd\n",
      "    init_rf = np.einsum('a, acd -> cd', init_fs, scaled_gaussians)\n",
      "  File \"<__array_function__ internals>\", line 5, in einsum\n",
      "  File \"/opt/anaconda/anaconda3/lib/python3.9/site-packages/numpy/core/einsumfunc.py\", line 1359, in einsum\n",
      "    return c_einsum(*operands, **kwargs)\n",
      "ValueError: operand has more dimensions than subscripts given in einstein sum, but no '...' ellipsis provided to broadcast the extra dimensions.\n",
      "\"\"\"\n",
      "\n",
      "The above exception was the direct cause of the following exception:\n",
      "\n",
      "Traceback (most recent call last):\n",
      "  File \"/home/sleyse4/.local/bin/dwi2decomposition\", line 33, in <module>\n",
      "    sys.exit(load_entry_point('lore-sd', 'console_scripts', 'dwi2decomposition')())\n",
      "  File \"/home/sleyse4/repos/LoRE_SD/src/lore_sd/dwi2decomposition.py\", line 135, in main\n",
      "    out = optimise.get_signal_decomposition(dwi, mask, grad, ad_list, rd_list, args.reg, Q=Q, cores=cores)\n",
      "  File \"/home/sleyse4/repos/LoRE_SD/src/lore_sd/optimisation/optimise.py\", line 63, in get_signal_decomposition\n",
      "    results = pool.starmap(decompose_voxel, tqdm.tqdm(args, total=len(args)), chunksize=1)\n",
      "  File \"/opt/anaconda/anaconda3/lib/python3.9/multiprocessing/pool.py\", line 372, in starmap\n",
      "    return self._map_async(func, iterable, starmapstar, chunksize).get()\n",
      "  File \"/opt/anaconda/anaconda3/lib/python3.9/multiprocessing/pool.py\", line 771, in get\n",
      "    raise self._value\n",
      "ValueError: operand has more dimensions than subscripts given in einstein sum, but no '...' ellipsis provided to broadcast the extra dimensions.\n",
      "mv: cannot stat '/LOCALDATA/sleyse4/odf.mif': No such file or directory\n",
      "mv: cannot stat '/LOCALDATA/sleyse4/reconstructed.mif': No such file or directory\n",
      "mv: cannot stat '/LOCALDATA/sleyse4/response.mif': No such file or directory\n",
      "dwi2fod: \u001b[00;31m[WARNING] existing output files will be overwritten\u001b[0m\n",
      "dwi2fod: [100%] preloading data for \"/LOCALDATA/sleyse4/crossing_50.mif\"\u001b[0K\n",
      "dwi2fod: [100%] performing MSMT CSD (3 shells, 1 tissue)\u001b[0K[0K\u001b[?7h\n"
     ]
    },
    {
     "name": "stdout",
     "output_type": "stream",
     "text": [
      "Regularisation: 0.001\n",
      "Grid size: 10 x 10\n"
     ]
    },
    {
     "name": "stderr",
     "output_type": "stream",
     "text": [
      "100%|██████████| 500/500 [00:01<00:00, 309.23it/s]\n",
      "multiprocessing.pool.RemoteTraceback: \n",
      "\"\"\"\n",
      "Traceback (most recent call last):\n",
      "  File \"/opt/anaconda/anaconda3/lib/python3.9/multiprocessing/pool.py\", line 125, in worker\n",
      "    result = (True, func(*args, **kwds))\n",
      "  File \"/opt/anaconda/anaconda3/lib/python3.9/multiprocessing/pool.py\", line 51, in starmapstar\n",
      "    return list(itertools.starmap(args[0], args[1]))\n",
      "  File \"/home/sleyse4/repos/LoRE_SD/src/lore_sd/optimisation/optimise.py\", line 160, in decompose_voxel\n",
      "    init, bounds = get_init_and_bounds_from_csd(lmax, Da, Dr, gaussians, S, [constraints.non_negative_odf(Q)])\n",
      "  File \"/home/sleyse4/repos/LoRE_SD/src/lore_sd/optimisation/optimise.py\", line 207, in get_init_and_bounds_from_csd\n",
      "    init_rf = np.einsum('a, acd -> cd', init_fs, scaled_gaussians)\n",
      "  File \"<__array_function__ internals>\", line 5, in einsum\n",
      "  File \"/opt/anaconda/anaconda3/lib/python3.9/site-packages/numpy/core/einsumfunc.py\", line 1359, in einsum\n",
      "    return c_einsum(*operands, **kwargs)\n",
      "ValueError: operand has more dimensions than subscripts given in einstein sum, but no '...' ellipsis provided to broadcast the extra dimensions.\n",
      "\"\"\"\n",
      "\n",
      "The above exception was the direct cause of the following exception:\n",
      "\n",
      "Traceback (most recent call last):\n",
      "  File \"/home/sleyse4/.local/bin/dwi2decomposition\", line 33, in <module>\n",
      "    sys.exit(load_entry_point('lore-sd', 'console_scripts', 'dwi2decomposition')())\n",
      "  File \"/home/sleyse4/repos/LoRE_SD/src/lore_sd/dwi2decomposition.py\", line 135, in main\n",
      "    out = optimise.get_signal_decomposition(dwi, mask, grad, ad_list, rd_list, args.reg, Q=Q, cores=cores)\n",
      "  File \"/home/sleyse4/repos/LoRE_SD/src/lore_sd/optimisation/optimise.py\", line 63, in get_signal_decomposition\n",
      "    results = pool.starmap(decompose_voxel, tqdm.tqdm(args, total=len(args)), chunksize=1)\n",
      "  File \"/opt/anaconda/anaconda3/lib/python3.9/multiprocessing/pool.py\", line 372, in starmap\n",
      "    return self._map_async(func, iterable, starmapstar, chunksize).get()\n",
      "  File \"/opt/anaconda/anaconda3/lib/python3.9/multiprocessing/pool.py\", line 771, in get\n",
      "    raise self._value\n",
      "ValueError: operand has more dimensions than subscripts given in einstein sum, but no '...' ellipsis provided to broadcast the extra dimensions.\n",
      "mv: cannot stat '/LOCALDATA/sleyse4/odf.mif': No such file or directory\n",
      "mv: cannot stat '/LOCALDATA/sleyse4/reconstructed.mif': No such file or directory\n",
      "mv: cannot stat '/LOCALDATA/sleyse4/response.mif': No such file or directory\n",
      "dwi2fod: \u001b[00;31m[WARNING] existing output files will be overwritten\u001b[0m\n",
      "dwi2fod: [100%] preloading data for \"/LOCALDATA/sleyse4/single_inf.mif\"\u001b[0K\n",
      "dwi2fod: [100%] performing MSMT CSD (3 shells, 1 tissue)\u001b[0K[0K\u001b[?7h\n"
     ]
    },
    {
     "name": "stdout",
     "output_type": "stream",
     "text": [
      "Regularisation: 0.001\n",
      "Grid size: 10 x 10\n"
     ]
    },
    {
     "name": "stderr",
     "output_type": "stream",
     "text": [
      "100%|██████████| 500/500 [00:01<00:00, 298.52it/s]\n",
      "multiprocessing.pool.RemoteTraceback: \n",
      "\"\"\"\n",
      "Traceback (most recent call last):\n",
      "  File \"/opt/anaconda/anaconda3/lib/python3.9/multiprocessing/pool.py\", line 125, in worker\n",
      "    result = (True, func(*args, **kwds))\n",
      "  File \"/opt/anaconda/anaconda3/lib/python3.9/multiprocessing/pool.py\", line 51, in starmapstar\n",
      "    return list(itertools.starmap(args[0], args[1]))\n",
      "  File \"/home/sleyse4/repos/LoRE_SD/src/lore_sd/optimisation/optimise.py\", line 160, in decompose_voxel\n",
      "    init, bounds = get_init_and_bounds_from_csd(lmax, Da, Dr, gaussians, S, [constraints.non_negative_odf(Q)])\n",
      "  File \"/home/sleyse4/repos/LoRE_SD/src/lore_sd/optimisation/optimise.py\", line 207, in get_init_and_bounds_from_csd\n",
      "    init_rf = np.einsum('a, acd -> cd', init_fs, scaled_gaussians)\n",
      "  File \"<__array_function__ internals>\", line 5, in einsum\n",
      "  File \"/opt/anaconda/anaconda3/lib/python3.9/site-packages/numpy/core/einsumfunc.py\", line 1359, in einsum\n",
      "    return c_einsum(*operands, **kwargs)\n",
      "ValueError: operand has more dimensions than subscripts given in einstein sum, but no '...' ellipsis provided to broadcast the extra dimensions.\n",
      "\"\"\"\n",
      "\n",
      "The above exception was the direct cause of the following exception:\n",
      "\n",
      "Traceback (most recent call last):\n",
      "  File \"/home/sleyse4/.local/bin/dwi2decomposition\", line 33, in <module>\n",
      "    sys.exit(load_entry_point('lore-sd', 'console_scripts', 'dwi2decomposition')())\n",
      "  File \"/home/sleyse4/repos/LoRE_SD/src/lore_sd/dwi2decomposition.py\", line 135, in main\n",
      "    out = optimise.get_signal_decomposition(dwi, mask, grad, ad_list, rd_list, args.reg, Q=Q, cores=cores)\n",
      "  File \"/home/sleyse4/repos/LoRE_SD/src/lore_sd/optimisation/optimise.py\", line 63, in get_signal_decomposition\n",
      "    results = pool.starmap(decompose_voxel, tqdm.tqdm(args, total=len(args)), chunksize=1)\n",
      "  File \"/opt/anaconda/anaconda3/lib/python3.9/multiprocessing/pool.py\", line 372, in starmap\n",
      "    return self._map_async(func, iterable, starmapstar, chunksize).get()\n",
      "  File \"/opt/anaconda/anaconda3/lib/python3.9/multiprocessing/pool.py\", line 771, in get\n",
      "    raise self._value\n",
      "ValueError: operand has more dimensions than subscripts given in einstein sum, but no '...' ellipsis provided to broadcast the extra dimensions.\n",
      "mv: cannot stat '/LOCALDATA/sleyse4/odf.mif': No such file or directory\n",
      "mv: cannot stat '/LOCALDATA/sleyse4/reconstructed.mif': No such file or directory\n",
      "mv: cannot stat '/LOCALDATA/sleyse4/response.mif': No such file or directory\n",
      "dwi2fod: \u001b[00;31m[WARNING] existing output files will be overwritten\u001b[0m\n",
      "dwi2fod: [100%] preloading data for \"/LOCALDATA/sleyse4/crossing_inf.mif\"\u001b[0K\n",
      "dwi2fod: [100%] performing MSMT CSD (3 shells, 1 tissue)\u001b[0K[0K\u001b[?7h\n"
     ]
    }
   ],
   "source": [
    "for snr in snrs:\n",
    "    for fibre_config, gt_odf, noise_free_dwi in zip(['single', 'crossing'], [single_fibre, crossing_60],\n",
    "                                            [noise_free_single_fibre_dwi, noise_free_crossing_60_dwi]):\n",
    "        noisy_dwi = add_noise(noise_free_dwi, grad, snr)\n",
    "\n",
    "        save_mrtrix(os.path.join(SAVE_DIR, f'{fibre_config}_{snr}.mif'), Image(noisy_dwi, grad=grad))\n",
    "        mask = np.ones_like(noisy_dwi[...,0], dtype=float)\n",
    "        save_mrtrix(os.path.join(SAVE_DIR, f'mask.mif'), Image(mask))\n",
    "\n",
    "        run_lore_sd(os.path.join(SAVE_DIR, f'{fibre_config}_{snr}.mif'), os.path.join(SAVE_DIR, f'mask.mif'), os.path.join(SAVE_DIR, f'{fibre_config}_{snr}_lore_odf.mif'), os.path.join(SAVE_DIR, f'{fibre_config}_{snr}_lore_pred.mif'), os.path.join(SAVE_DIR, f'{fibre_config}_{snr}_lore_rf.mif'))\n",
    "        run_msmt_csd(os.path.join(SAVE_DIR, f'{fibre_config}_{snr}.mif'), os.path.join(SAVE_DIR, f'mask.mif'), os.path.join(SAVE_DIR, 'response.txt'), os.path.join(SAVE_DIR, f'{fibre_config}_{snr}_msmt_odf.mif'), os.path.join(SAVE_DIR, f'{fibre_config}_{snr}_msmt_pred.mif'))\n"
   ]
  },
  {
   "cell_type": "code",
   "execution_count": 36,
   "metadata": {
    "ExecuteTime": {
     "end_time": "2024-07-17T14:24:27.880526Z",
     "start_time": "2024-07-17T14:24:27.862788Z"
    },
    "collapsed": false
   },
   "outputs": [],
   "source": [
    "from matplotlib.pyplot import setp\n",
    "\n",
    "# function for setting the colors of the box plots pairs\n",
    "def setBoxColors(bp):\n",
    "    setp(bp['boxes'][0], color='blue')\n",
    "    setp(bp['caps'][0], color='blue')\n",
    "    setp(bp['caps'][1], color='blue')\n",
    "    setp(bp['whiskers'][0], color='blue')\n",
    "    setp(bp['whiskers'][1], color='blue')\n",
    "    setp(bp['medians'][0], color='blue')\n",
    "\n",
    "    setp(bp['boxes'][1], color='orange')\n",
    "    setp(bp['caps'][2], color='orange')\n",
    "    setp(bp['caps'][3], color='orange')\n",
    "    setp(bp['whiskers'][2], color='orange')\n",
    "    setp(bp['whiskers'][3], color='orange')\n",
    "    setp(bp['medians'][1], color='orange')"
   ]
  },
  {
   "cell_type": "code",
   "execution_count": 37,
   "metadata": {
    "ExecuteTime": {
     "end_time": "2024-07-17T14:24:28.317930Z",
     "start_time": "2024-07-17T14:24:27.956933Z"
    },
    "collapsed": false
   },
   "outputs": [
    {
     "ename": "FileNotFoundError",
     "evalue": "[Errno 2] No such file or directory: '/LOCALDATA/sleyse4/single_10_lore_odf.mif'",
     "output_type": "error",
     "traceback": [
      "\u001b[0;31m---------------------------------------------------------------------------\u001b[0m",
      "\u001b[0;31mFileNotFoundError\u001b[0m                         Traceback (most recent call last)",
      "Cell \u001b[0;32mIn[37], line 8\u001b[0m\n\u001b[1;32m      6\u001b[0m \u001b[38;5;28;01mfor\u001b[39;00m fibre_config, ax \u001b[38;5;129;01min\u001b[39;00m \u001b[38;5;28mzip\u001b[39m([\u001b[38;5;124m'\u001b[39m\u001b[38;5;124msingle\u001b[39m\u001b[38;5;124m'\u001b[39m, \u001b[38;5;124m'\u001b[39m\u001b[38;5;124mcrossing\u001b[39m\u001b[38;5;124m'\u001b[39m], axs\u001b[38;5;241m.\u001b[39mT):\n\u001b[1;32m      7\u001b[0m     \u001b[38;5;28;01mfor\u001b[39;00m i, snr \u001b[38;5;129;01min\u001b[39;00m \u001b[38;5;28menumerate\u001b[39m(snrs):\n\u001b[0;32m----> 8\u001b[0m         odf_lore \u001b[38;5;241m=\u001b[39m \u001b[43mload_mrtrix\u001b[49m\u001b[43m(\u001b[49m\u001b[43mos\u001b[49m\u001b[38;5;241;43m.\u001b[39;49m\u001b[43mpath\u001b[49m\u001b[38;5;241;43m.\u001b[39;49m\u001b[43mjoin\u001b[49m\u001b[43m(\u001b[49m\u001b[43mSAVE_DIR\u001b[49m\u001b[43m,\u001b[49m\u001b[43m \u001b[49m\u001b[38;5;124;43mf\u001b[39;49m\u001b[38;5;124;43m'\u001b[39;49m\u001b[38;5;132;43;01m{\u001b[39;49;00m\u001b[43mfibre_config\u001b[49m\u001b[38;5;132;43;01m}\u001b[39;49;00m\u001b[38;5;124;43m_\u001b[39;49m\u001b[38;5;132;43;01m{\u001b[39;49;00m\u001b[43msnr\u001b[49m\u001b[38;5;132;43;01m}\u001b[39;49;00m\u001b[38;5;124;43m_lore_odf.mif\u001b[39;49m\u001b[38;5;124;43m'\u001b[39;49m\u001b[43m)\u001b[49m\u001b[43m)\u001b[49m\u001b[38;5;241m.\u001b[39mdata[mask\u001b[38;5;241m>\u001b[39m\u001b[38;5;241m0\u001b[39m]\n\u001b[1;32m      9\u001b[0m         odf_msmt \u001b[38;5;241m=\u001b[39m load_mrtrix(os\u001b[38;5;241m.\u001b[39mpath\u001b[38;5;241m.\u001b[39mjoin(SAVE_DIR, \u001b[38;5;124mf\u001b[39m\u001b[38;5;124m'\u001b[39m\u001b[38;5;132;01m{\u001b[39;00mfibre_config\u001b[38;5;132;01m}\u001b[39;00m\u001b[38;5;124m_\u001b[39m\u001b[38;5;132;01m{\u001b[39;00msnr\u001b[38;5;132;01m}\u001b[39;00m\u001b[38;5;124m_msmt_odf.mif\u001b[39m\u001b[38;5;124m'\u001b[39m))\u001b[38;5;241m.\u001b[39mdata[mask\u001b[38;5;241m>\u001b[39m\u001b[38;5;241m0\u001b[39m]\n\u001b[1;32m     11\u001b[0m         gt_odf \u001b[38;5;241m=\u001b[39m single_fibre \u001b[38;5;28;01mif\u001b[39;00m fibre_config \u001b[38;5;241m==\u001b[39m \u001b[38;5;124m'\u001b[39m\u001b[38;5;124msingle\u001b[39m\u001b[38;5;124m'\u001b[39m \u001b[38;5;28;01melse\u001b[39;00m crossing_60\n",
      "File \u001b[0;32m~/repos/LoRE_SD/src/notebooks/../lore_sd/mrtrix_io/io/image.py:230\u001b[0m, in \u001b[0;36mload_mrtrix\u001b[0;34m(filename)\u001b[0m\n\u001b[1;32m    228\u001b[0m \u001b[38;5;250m\u001b[39m\u001b[38;5;124;03m''' Load image in mrtrix format. '''\u001b[39;00m\n\u001b[1;32m    229\u001b[0m img \u001b[38;5;241m=\u001b[39m Image()\n\u001b[0;32m--> 230\u001b[0m \u001b[43mimg\u001b[49m\u001b[38;5;241;43m.\u001b[39;49m\u001b[43mload\u001b[49m\u001b[43m(\u001b[49m\u001b[43mfilename\u001b[49m\u001b[43m)\u001b[49m\n\u001b[1;32m    231\u001b[0m \u001b[38;5;28;01mreturn\u001b[39;00m img\n",
      "File \u001b[0;32m~/repos/LoRE_SD/src/notebooks/../lore_sd/mrtrix_io/io/image.py:93\u001b[0m, in \u001b[0;36mImage.load\u001b[0;34m(self, filename)\u001b[0m\n\u001b[1;32m     91\u001b[0m \u001b[38;5;250m\u001b[39m\u001b[38;5;124;03m''' Load MRtrix .mif file. '''\u001b[39;00m\n\u001b[1;32m     92\u001b[0m \u001b[38;5;66;03m# read image header\u001b[39;00m\n\u001b[0;32m---> 93\u001b[0m \u001b[38;5;28;01mwith\u001b[39;00m \u001b[38;5;28;43mopen\u001b[39;49m\u001b[43m(\u001b[49m\u001b[43mfilename\u001b[49m\u001b[43m,\u001b[49m\u001b[43m \u001b[49m\u001b[38;5;124;43m'\u001b[39;49m\u001b[38;5;124;43mr\u001b[39;49m\u001b[38;5;124;43m'\u001b[39;49m\u001b[43m,\u001b[49m\u001b[43m \u001b[49m\u001b[43mencoding\u001b[49m\u001b[38;5;241;43m=\u001b[39;49m\u001b[38;5;124;43m'\u001b[39;49m\u001b[38;5;124;43mlatin-1\u001b[39;49m\u001b[38;5;124;43m'\u001b[39;49m\u001b[43m)\u001b[49m \u001b[38;5;28;01mas\u001b[39;00m f:\n\u001b[1;32m     94\u001b[0m     fl \u001b[38;5;241m=\u001b[39m \u001b[38;5;124m'\u001b[39m\u001b[38;5;124m'\u001b[39m\n\u001b[1;32m     95\u001b[0m     tr_count \u001b[38;5;241m=\u001b[39m \u001b[38;5;241m0\u001b[39m\n",
      "\u001b[0;31mFileNotFoundError\u001b[0m: [Errno 2] No such file or directory: '/LOCALDATA/sleyse4/single_10_lore_odf.mif'"
     ]
    },
    {
     "data": {
      "image/png": "[encoded data removed]",
      "text/plain": [
       "<Figure size 1000x600 with 2 Axes>"
      ]
     },
     "metadata": {},
     "output_type": "display_data"
    }
   ],
   "source": [
    "# Boxplots of the angular correlation coefficients\n",
    "fig, axs = plt.subplots(1, 2, figsize=(10, 6))\n",
    "snrs = [10, 20, 50, np.inf]\n",
    "snr_strings = ['10', '20', '50', r'$\\infty$']\n",
    "\n",
    "for fibre_config, ax in zip(['single', 'crossing'], axs.T):\n",
    "    for i, snr in enumerate(snrs):\n",
    "        odf_lore = load_mrtrix(os.path.join(SAVE_DIR, f'{fibre_config}_{snr}_lore_odf.mif')).data[mask>0]\n",
    "        odf_msmt = load_mrtrix(os.path.join(SAVE_DIR, f'{fibre_config}_{snr}_msmt_odf.mif')).data[mask>0]\n",
    "\n",
    "        gt_odf = single_fibre if fibre_config == 'single' else crossing_60\n",
    "\n",
    "        acc_lore = sh.angularCorrelation(odf_lore, gt_odf)\n",
    "        acc_msmt = sh.angularCorrelation(odf_msmt, gt_odf)\n",
    "\n",
    "        bp = ax.boxplot(\n",
    "            [acc_lore, acc_msmt],\n",
    "            positions=[1 + 3 * i, 2 + 3 * i],\n",
    "            widths=0.6,\n",
    "            showfliers=False\n",
    "        )\n",
    "        setBoxColors(bp)\n",
    "    ax.set_xticks([1.5 + 3 * i for i in range(len(snrs))])\n",
    "    ax.set_xticklabels(snr_strings, fontsize=12)\n",
    "    ax.set_xlabel('SNR')\n",
    "    ax.set_yticks([.7,.8,.9,1])\n",
    "    ax.set_ylim([.7, 1])\n",
    "    if ax != axs.T[0]:\n",
    "        ax.set_yticklabels([])\n",
    "    else:\n",
    "        ax.set_yticklabels([.7,.8,.9,1], fontsize=12)\n",
    "    title = 'Single Fibre' if fibre_config == 'single' else 'Crossing Fibre'\n",
    "    ax.set_title(title, fontsize=15)\n",
    "\n",
    "axs[0].set_ylabel('ODF Angular Correlation Coefficient', fontsize=12)\n",
    "\n",
    "# draw temporary red and blue lines and use them to create a legend\n",
    "hB, = axs[-1].plot(5, 1,'-', color='blue', label='hB')\n",
    "hR, = axs[-1].plot(5, 1,'-', color='orange', label='hR')\n",
    "patches, _ = axs[-1].get_legend_handles_labels()\n",
    "fig.legend(patches, ['LoRE-SD', 'MSMT-CSD'], fontsize=12, loc='center right', bbox_to_anchor=(.9, .75), frameon=True)\n",
    "hB.set_visible(False)\n",
    "hR.set_visible(False)\n",
    "\n",
    "plt.show()\n"
   ]
  },
  {
   "cell_type": "markdown",
   "metadata": {
    "collapsed": false
   },
   "source": [
    "# Plot the variance within the response function estimations\n",
    "For every configuration, the variance within the response function estimations is plotted. The variance is calculated for each shell of the response function. The variance is visualized by filling the area between the minimum and maximum values of the response function estimations."
   ]
  },
  {
   "cell_type": "code",
   "execution_count": null,
   "metadata": {
    "ExecuteTime": {
     "end_time": "2024-07-17T14:28:17.411512Z",
     "start_time": "2024-07-17T14:28:17.395866Z"
    },
    "collapsed": false
   },
   "outputs": [],
   "source": [
    "def fill_kernels(kernels, ax, color):\n",
    "    # Calculate the maximum degree of spherical harmonics\n",
    "    lmax = (kernels[0].shape[-1]-1)*2\n",
    "\n",
    "    # Get the number of shells in the kernel\n",
    "    num_shells = len(kernels[0])\n",
    "\n",
    "    # Generate a modified spherical harmonics basis\n",
    "    Q_k = sh.modshbasis(lmax, np.linspace(0, 2*np.pi, 400), np.zeros(400))\n",
    "\n",
    "    # Initialize indices for spherical harmonics\n",
    "    idx = []\n",
    "    end = 0\n",
    "    for l in range(0, lmax + 1, 2):\n",
    "        idx.append(end + (2 * l + 1) // 2)\n",
    "        end += 2 * l + 1\n",
    "\n",
    "    # Select the required columns from the basis\n",
    "    Q_k = Q_k[:,idx]\n",
    "\n",
    "    # Convert kernels to polar coordinates\n",
    "    kernels_polar = [kernel @ Q_k.T for kernel in kernels]\n",
    "    kernels_polar = np.asarray(kernels_polar)\n",
    "\n",
    "    # Define angles for plotting\n",
    "    angles = np.linspace(0, 2*np.pi, 400)\n",
    "    # Plot each shell\n",
    "    for i in range(num_shells):\n",
    "        minima = np.squeeze(np.amin(kernels_polar[:,i,:], axis=0))\n",
    "        maxima = np.squeeze(np.amax(kernels_polar[:,i,:], axis=0))\n",
    "\n",
    "        # Fill between minima and maxima for each shell\n",
    "        ax.fill_between(angles - np.pi / 2, minima, maxima, alpha=.2, color=color, edgecolor=(0,0,0,0), linewidth=0)\n",
    "\n",
    "        # Set xticks if axis is provided\n",
    "        xlocs = np.arange(0, 2 * np.pi, np.pi / 4)\n",
    "        ax.set_xticks(xlocs, [''] * len(xlocs))\n"
   ]
  },
  {
   "cell_type": "code",
   "execution_count": null,
   "metadata": {
    "ExecuteTime": {
     "end_time": "2024-07-17T14:28:19.012573Z",
     "start_time": "2024-07-17T14:28:18.576362Z"
    },
    "collapsed": false
   },
   "outputs": [],
   "source": [
    "from matplotlib.patches import Patch\n",
    "import matplotlib.gridspec as gridspec\n",
    "\n",
    "fig = plt.figure(figsize=(3, 6))\n",
    "gs = gridspec.GridSpec(2,1, figure=fig)\n",
    "\n",
    "# Subplot for Crossing Fibre SNR 20\n",
    "ax1 = fig.add_subplot(gs[0, 0], projection='polar')\n",
    "rf_20 = load_mrtrix(os.path.join(SAVE_DIR, 'crossing_20_lore_rf.mif')).data[mask>0]\n",
    "fill_kernels(rf_20, ax1, 'blue')\n",
    "ax1.set_xticks([])\n",
    "ax1.set_yticks([])\n",
    "ax1.set_ylabel(f'SNR {20}', fontsize=12)\n",
    "sh.plot_wmr_on_axis(sane_rf, bvals, ax1, c='green')\n",
    "ax1.set_title('Response function variance', fontsize=15)\n",
    "ax1.spines['polar'].set_visible(False)\n",
    "\n",
    "# Subplot for Crossing Fibre SNR 50\n",
    "ax2 = fig.add_subplot(gs[1,0], projection='polar')\n",
    "rf_50 = load_mrtrix(os.path.join(SAVE_DIR, 'crossing_50_lore_rf.mif')).data[mask>0]\n",
    "fill_kernels(rf_50, ax2, 'blue')\n",
    "ax2.set_xticks([])\n",
    "ax2.set_yticks([])\n",
    "ax2.set_ylabel(f'SNR {50}', fontsize=12)\n",
    "sh.plot_wmr_on_axis(sane_rf, bvals, ax2, c='green')\n",
    "ax2.spines['polar'].set_visible(False)\n",
    "\n",
    "plt.show()"
   ]
  }
 ],
 "metadata": {
  "kernelspec": {
   "display_name": "sparse_sampling",
   "language": "python",
   "name": "python3"
  },
  "language_info": {
   "codemirror_mode": {
    "name": "ipython",
    "version": 3
   },
   "file_extension": ".py",
   "mimetype": "text/x-python",
   "name": "python",
   "nbconvert_exporter": "python",
   "pygments_lexer": "ipython3",
   "version": "3.12.5"
  }
 },
 "nbformat": 4,
 "nbformat_minor": 0
}
