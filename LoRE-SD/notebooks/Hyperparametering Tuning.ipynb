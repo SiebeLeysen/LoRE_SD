{
 "cells": [
  {
   "cell_type": "code",
   "execution_count": 9,
   "metadata": {
    "ExecuteTime": {
     "end_time": "2024-07-17T14:54:27.818135Z",
     "start_time": "2024-07-17T14:54:27.787474Z"
    },
    "collapsed": true
   },
   "outputs": [
    {
     "ename": "ModuleNotFoundError",
     "evalue": "No module named 'simulations'",
     "output_type": "error",
     "traceback": [
      "\u001b[0;31m---------------------------------------------------------------------------\u001b[0m",
      "\u001b[0;31mModuleNotFoundError\u001b[0m                       Traceback (most recent call last)",
      "Cell \u001b[0;32mIn[9], line 16\u001b[0m\n\u001b[1;32m     14\u001b[0m \u001b[38;5;28;01mfrom\u001b[39;00m \u001b[38;5;21;01mutils\u001b[39;00m \u001b[38;5;28;01mimport\u001b[39;00m gradient_utils, plot_utils, io_utils, math_utils\n\u001b[1;32m     15\u001b[0m \u001b[38;5;28;01mfrom\u001b[39;00m \u001b[38;5;21;01moptimisation\u001b[39;00m \u001b[38;5;28;01mimport\u001b[39;00m optimise\n\u001b[0;32m---> 16\u001b[0m \u001b[38;5;28;01mfrom\u001b[39;00m \u001b[38;5;21;01msimulations\u001b[39;00m \u001b[38;5;28;01mimport\u001b[39;00m simulation\n\u001b[1;32m     18\u001b[0m \u001b[38;5;28;01mfrom\u001b[39;00m \u001b[38;5;21;01mio\u001b[39;00m\u001b[38;5;21;01m.\u001b[39;00m\u001b[38;5;21;01mmrtrix_io\u001b[39;00m \u001b[38;5;28;01mimport\u001b[39;00m load_mrtrix, save_mrtrix\n\u001b[1;32m     19\u001b[0m \u001b[38;5;28;01mfrom\u001b[39;00m \u001b[38;5;21;01mio\u001b[39;00m\u001b[38;5;21;01m.\u001b[39;00m\u001b[38;5;21;01mmrtrix_io\u001b[39;00m\u001b[38;5;21;01m.\u001b[39;00m\u001b[38;5;21;01mimage\u001b[39;00m \u001b[38;5;28;01mimport\u001b[39;00m Image\n",
      "\u001b[0;31mModuleNotFoundError\u001b[0m: No module named 'simulations'"
     ]
    }
   ],
   "source": [
    "import os\n",
    "import subprocess\n",
    "import shutil\n",
    "import sys\n",
    "\n",
    "# Add the correct path to the utils module\n",
    "sys.path.append('/home/sleyse4/repos/LoRE_SD/LoRE-SD/src/')\n",
    "\n",
    "\n",
    "import numpy as np\n",
    "import matplotlib.pyplot as plt\n",
    "import"
   ]
  },
  {
   "cell_type": "code",
   "execution_count": 4,
   "metadata": {
    "ExecuteTime": {
     "end_time": "2024-07-17T14:54:27.826066Z",
     "start_time": "2024-07-17T14:54:27.821577Z"
    },
    "collapsed": false
   },
   "outputs": [],
   "source": [
    "# Add the MRtrix3 binary directory to the PATH\n",
    "mrtrix_bin_dir = '/SOFTWARE/mrtrix3/bin'  # Replace with the actual path to MRtrix3 binaries\n",
    "os.environ['PATH'] += os.pathsep + mrtrix_bin_dir"
   ]
  },
  {
   "cell_type": "markdown",
   "metadata": {
    "collapsed": false
   },
   "source": [
    "# Constants"
   ]
  },
  {
   "cell_type": "code",
   "execution_count": 5,
   "metadata": {
    "ExecuteTime": {
     "end_time": "2024-07-17T14:54:46.025102Z",
     "start_time": "2024-07-17T14:54:27.833109Z"
    },
    "collapsed": false
   },
   "outputs": [],
   "source": [
    "lmax = 8\n",
    "\n",
    "grad = varia.create_gradient_table([0, 1000, 2000], [2, 128, 128])\n",
    "bvals = np.unique(np.round(grad[...,-1], -2))\n",
    "\n",
    "Q = optimise.get_transformation_matrix(300, lmax)\n",
    "\n",
    "varia.pretty_print_gradient_table(grad)\n",
    "\n",
    "# Multiprocessing reduces the time to run the simulations\n",
    "cores = 10"
   ]
  },
  {
   "cell_type": "code",
   "execution_count": 6,
   "metadata": {
    "ExecuteTime": {
     "end_time": "2024-07-17T14:54:46.083594Z",
     "start_time": "2024-07-17T14:54:46.030438Z"
    },
    "collapsed": false
   },
   "outputs": [],
   "source": [
    "# LoRE-SD Parameters\n",
    "reg = 1e-3\n",
    "\n",
    "axial_diffusivities = np.linspace(0, 4e-3, 10)\n",
    "radial_diffusivities = np.linspace(0, 4e-3, 10)\n",
    "\n",
    "gaussians = optimise.get_gaussians(axial_diffusivities, radial_diffusivities, bvals, lmax)"
   ]
  },
  {
   "cell_type": "code",
   "execution_count": 7,
   "metadata": {
    "ExecuteTime": {
     "end_time": "2024-07-17T14:54:46.089291Z",
     "start_time": "2024-07-17T14:54:46.061401Z"
    },
    "collapsed": false
   },
   "outputs": [],
   "source": [
    "def add_noise(noise_free, grad, snr):\n",
    "    \"\"\"\n",
    "    Add Gaussian noise or Rician noise to a signal.\n",
    "\n",
    "    Returns:\n",
    "        numpy.ndarray: A signal with added Gaussian/Rician noise.\n",
    "    \"\"\"\n",
    "\n",
    "    mean_b0 = np.mean(noise_free[..., np.where(grad[...,-1] == 0)[0]])\n",
    "\n",
    "    std_noise = mean_b0 / snr\n",
    "    noise1 = np.random.normal(0, std_noise, size=noise_free.shape)\n",
    "    noise2 = np.random.normal(0, std_noise, size=noise_free.shape)\n",
    "    noisy_dwi = np.sqrt((noise_free + noise1)**2 + noise2**2)\n",
    "\n",
    "    return noisy_dwi"
   ]
  },
  {
   "cell_type": "code",
   "execution_count": 8,
   "metadata": {
    "ExecuteTime": {
     "end_time": "2024-07-17T14:54:46.089552Z",
     "start_time": "2024-07-17T14:54:46.083707Z"
    },
    "collapsed": false
   },
   "outputs": [],
   "source": [
    "def get_msmt_csd_odf(voxel_dwi, response_function, grad):\n",
    "    \"\"\"\n",
    "    Estimate the ODF using the MSMT-CSD algorithm.\n",
    "\n",
    "    Args:\n",
    "        voxel_dwi (numpy.ndarray): The DWI data for the voxel.\n",
    "        response_function (numpy.ndarray): The response function.\n",
    "        grad (numpy.ndarray): The gradient table.\n",
    "        num_its (int): Number of iterations for the MSMT-CSD algorithm.\n",
    "\n",
    "    Returns:\n",
    "        numpy.ndarray: The estimated ODF.\n",
    "    \"\"\"\n",
    "\n",
    "    assert voxel_dwi.ndim == 4, f'Data must have 4 dimensions. Actual: {voxel_dwi.ndim}'\n",
    "\n",
    "    # Create a temporary directory\n",
    "    tmp_dir = os.path.join(os.getcwd(), 'tmp')\n",
    "    os.makedirs(tmp_dir, exist_ok=False)\n",
    "\n",
    "    # Save the voxel data and response function\n",
    "    save_mrtrix(os.path.join(tmp_dir, 'voxels.mif'), Image(voxel_dwi, grad=grad))\n",
    "    varia.save_vector(os.path.join(tmp_dir, 'response.txt'), response_function)\n",
    "\n",
    "    # Run the MSMT-CSD algorithm\n",
    "    csd_cmd = [\n",
    "        'dwi2fod', 'msmt_csd',\n",
    "        os.path.join(tmp_dir, 'voxels.mif'),\n",
    "        os.path.join(tmp_dir, 'response.txt'),\n",
    "        os.path.join(tmp_dir, 'odf.mif'),\n",
    "        '-force'\n",
    "    ]\n",
    "    subprocess.run(csd_cmd)\n",
    "\n",
    "    # Load the estimated ODF\n",
    "    est_odf = load_mrtrix(os.path.join(tmp_dir, 'odf.mif')).data\n",
    "\n",
    "    # Remove the temporary directory, even if it is not empty\n",
    "    shutil.rmtree(tmp_dir)\n",
    "\n",
    "    return est_odf"
   ]
  },
  {
   "cell_type": "markdown",
   "metadata": {
    "collapsed": false
   },
   "source": [
    "# Voxel Simulation"
   ]
  },
  {
   "cell_type": "code",
   "execution_count": 9,
   "metadata": {
    "ExecuteTime": {
     "end_time": "2024-07-17T14:58:12.260342Z",
     "start_time": "2024-07-17T14:58:12.242563Z"
    },
    "collapsed": false
   },
   "outputs": [],
   "source": [
    "odf_sim = .5*simulation.getOrientedApodizedDirac(0, 0, lmax) + .5*simulation.getOrientedApodizedDirac(45, 0, lmax)\n",
    "\n",
    "stick = sh.zhgaussian(bvals, 2.2e-3, 0)\n",
    "zeppelin = sh.zhgaussian(bvals, 2e-3, .7e-3)\n",
    "water = sh.zhgaussian(bvals, 3e-3, 3e-3)\n",
    "\n",
    "rf_sim = .9*(.5*stick + .5*zeppelin) + .1*water\n",
    "# rf_sim *= 1000/np.sqrt(4*np.pi)\n",
    "rf_sim *= 1000\n",
    "\n",
    "sh_sim = sh.sphconv(rf_sim, odf_sim)\n",
    "dwi_sim = sh.calcdwi(sh_sim, grad)"
   ]
  },
  {
   "cell_type": "code",
   "execution_count": 10,
   "metadata": {
    "ExecuteTime": {
     "end_time": "2024-07-17T14:58:15.425292Z",
     "start_time": "2024-07-17T14:58:14.977597Z"
    },
    "collapsed": false
   },
   "outputs": [],
   "source": [
    "fig, axs = plt.subplots(1, 2, subplot_kw={'projection': 'polar'})\n",
    "\n",
    "sh.plot_odf_on_axis(odf_sim, ax=axs[0])\n",
    "axs[0].set_title('Simulated ODF')\n",
    "\n",
    "sh.plot_wmr_on_axis(rf_sim, bvals=bvals, ax=axs[1])\n",
    "axs[1].set_title('Simulated Response Function')\n",
    "plt.show()"
   ]
  },
  {
   "cell_type": "code",
   "execution_count": 11,
   "metadata": {
    "ExecuteTime": {
     "end_time": "2024-07-17T14:59:01.456763Z",
     "start_time": "2024-07-17T14:59:01.402317Z"
    },
    "collapsed": false
   },
   "outputs": [],
   "source": [
    "reps = 500\n",
    "\n",
    "noise_free = np.repeat(dwi_sim, reps, axis=0)\n",
    "\n",
    "dwi_noise_10 = add_noise(noise_free, grad, 10)\n",
    "dwi_noise_20 = add_noise(noise_free, grad, 20)\n",
    "dwi_noise_50 = add_noise(noise_free, grad, 50)\n",
    "\n",
    "dwi = np.asarray([dwi_noise_10, dwi_noise_20, dwi_noise_50, noise_free]).reshape((4, reps, 1, -1))\n",
    "mask = np.ones(dwi.shape[:-1], dtype=bool)\n",
    "\n",
    "noise_10 = varia.rmse(dwi_noise_10, noise_free, np.ones(dwi_noise_10.shape[:-1], dtype=bool))\n",
    "noise_20 = varia.rmse(dwi_noise_20, noise_free, np.ones(dwi_noise_20.shape[:-1], dtype=bool))\n",
    "noise_50 = varia.rmse(dwi_noise_50, noise_free, np.ones(dwi_noise_50.shape[:-1], dtype=bool))\n",
    "no_noise = np.zeros_like(noise_10)\n",
    "noise = np.asarray([noise_10, noise_20, noise_50, no_noise])"
   ]
  },
  {
   "cell_type": "code",
   "execution_count": 12,
   "metadata": {
    "ExecuteTime": {
     "end_time": "2024-07-17T14:59:01.505075Z",
     "start_time": "2024-07-17T14:59:01.504924Z"
    },
    "collapsed": false
   },
   "outputs": [],
   "source": [
    "varia.pretty_print_gradient_table(grad)"
   ]
  },
  {
   "cell_type": "code",
   "execution_count": 13,
   "metadata": {
    "ExecuteTime": {
     "end_time": "2024-07-17T14:59:23.042387Z",
     "start_time": "2024-07-17T14:59:21.174615Z"
    },
    "collapsed": false
   },
   "outputs": [],
   "source": [
    "odf_est_msmt_csd = get_msmt_csd_odf(dwi, rf_sim, grad).reshape((4, reps, 1, -1))\n",
    "acc_msmt_csd = sh.angularCorrelation(odf_sim, odf_est_msmt_csd)\n",
    "res_msmt_csd = varia.rmse(sh.calcdwi(sh.sphconv(rf_sim, odf_est_msmt_csd), grad), dwi, mask)"
   ]
  },
  {
   "cell_type": "markdown",
   "metadata": {
    "collapsed": false
   },
   "source": [
    "# Hyperparameter Tuning: Regularisation parameter $\\lambda$"
   ]
  },
  {
   "cell_type": "code",
   "execution_count": 14,
   "metadata": {
    "ExecuteTime": {
     "end_time": "2024-07-17T16:30:53.932480Z",
     "start_time": "2024-07-17T16:24:46.703354Z"
    },
    "collapsed": false
   },
   "outputs": [],
   "source": [
    "log_test = np.logspace(-7, 0, 8)\n",
    "full_acc_values = []\n",
    "full_rmses = []\n",
    "for reg in log_test:\n",
    "    result = optimise.get_signal_decomposition(dwi, mask, grad, axial_diffusivities, radial_diffusivities, reg=reg, cores=cores)\n",
    "    acc = sh.angularCorrelation(odf_sim, result['odf'])\n",
    "    reconstructed_signal = sh.calcdwi(sh.sphconv(result['response'], result['odf']), grad)\n",
    "    rmse = varia.rmse(dwi, reconstructed_signal, mask)\n",
    "    full_acc_values.append(acc)\n",
    "    full_rmses.append(rmse)\n",
    "\n",
    "full_acc_values = np.squeeze(full_acc_values)\n",
    "full_rmses = np.squeeze(full_rmses)"
   ]
  },
  {
   "cell_type": "code",
   "execution_count": 15,
   "metadata": {
    "ExecuteTime": {
     "end_time": "2024-07-17T19:56:38.007187Z",
     "start_time": "2024-07-17T19:56:35.665465Z"
    },
    "collapsed": false
   },
   "outputs": [],
   "source": [
    "fig = plt.figure(figsize=(14,14))\n",
    "\n",
    "gs = fig.add_gridspec(4, 2, wspace=.2, hspace=1)\n",
    "\n",
    "for i, snr in enumerate(['10', '20', '50', r'$\\infty$']):\n",
    "\n",
    "    acc_ax = fig.add_subplot(gs[i, 0])\n",
    "\n",
    "    acc_rect = plt.Rectangle((3.5, 0), 1, 2, facecolor='green', alpha=.6)\n",
    "    acc_ax.add_patch(acc_rect)\n",
    "\n",
    "    acc_to_plot = np.concatenate((full_acc_values[:,i].T, acc_msmt_csd[i]), axis=-1)\n",
    "\n",
    "    acc_palette = [(0, 0, 1, .6) for _ in range(acc_to_plot.shape[-1]-1)] + [(1, 160/255, 0, .6)]\n",
    "\n",
    "    acc_boxplot = sns.boxplot(acc_to_plot, fliersize=0, ax=acc_ax, palette=acc_palette, width=.4, saturation=1)\n",
    "\n",
    "    acc_ax.set_xticks(range(len(log_test)+1), [f'$10^{{{np.log10(e):.0f}}}$' for e in log_test] + ['MSMT-CSD'])\n",
    "    acc_ax.get_xticklabels()[-1].set_rotation(90)\n",
    "    acc_ax.set_ylabel(f'SNR {snr}')\n",
    "    acc_ax.set_xlabel(r'Regularisation parameter $\\lambda$')\n",
    "    acc_ax.xaxis.set_label_coords(.5, -.3)\n",
    "\n",
    "    if i == 0:\n",
    "        acc_ax.set_title(f'Angular Correlation Coefficient')\n",
    "    acc_ax.set_ylim(.5, 1)\n",
    "\n",
    "    res_ax = fig.add_subplot(gs[i, 1])\n",
    "\n",
    "    res_to_plot = np.concatenate((full_rmses[:,i].T, res_msmt_csd[i], noise[i,None].T), axis=-1)\n",
    "\n",
    "    res_palette = [(0, 0, 1, .6) for _ in range(res_to_plot.shape[-1]-2)] + [(1, 160/255, 0, .6), (0, 1, 0, .6)]\n",
    "\n",
    "    res_boxplot = sns.boxplot(res_to_plot, fliersize=0, ax=res_ax, palette=res_palette, width=.4, saturation=1)\n",
    "\n",
    "    res_ylim = res_ax.get_ylim()\n",
    "\n",
    "    res_ax.set_xticks(range(len(log_test)+2), [f'$10^{{{np.log10(e):.0f}}}$' for e in log_test] + ['MSMT-CSD', 'Ground Truth'])\n",
    "    res_ax.get_xticklabels()[-2].set_rotation(90)\n",
    "    res_ax.get_xticklabels()[-1].set_rotation(90)\n",
    "    res_ax.set_xlabel(r'Regularisation parameter $\\lambda$')\n",
    "    res_ax.xaxis.set_label_coords(.5, -.3)\n",
    "\n",
    "    res_rect = plt.Rectangle((3.5, res_ylim[0]), 1, res_ylim[1] - res_ylim[0], facecolor='green', alpha=.6)\n",
    "    res_ax.add_patch(res_rect)\n",
    "\n",
    "    if i == 0:\n",
    "        res_ax.set_title(f'RMSE')"
   ]
  },
  {
   "cell_type": "markdown",
   "metadata": {
    "collapsed": false
   },
   "source": [
    "# Hyperparameter Tuning: Grid Size"
   ]
  },
  {
   "cell_type": "code",
   "execution_count": 16,
   "metadata": {
    "ExecuteTime": {
     "end_time": "2024-07-17T19:57:16.897598Z",
     "start_time": "2024-07-17T19:56:45.286310Z"
    },
    "collapsed": false
   },
   "outputs": [],
   "source": [
    "ax_test = [3,5,7,10,15,20]\n",
    "rad_test = [3,5,7,10,15,20]\n",
    "\n",
    "grid_acc_values = []\n",
    "grid_rmses = []\n",
    "\n",
    "for num in ax_test:\n",
    "    ad_range = np.linspace(0, 4e-3, num)\n",
    "    rd_range = np.linspace(0, 4e-3, num)\n",
    "    result = optimise.get_signal_decomposition(dwi, mask, grad, ad_range, rd_range, reg=1e-3, cores=cores)\n",
    "    acc = sh.angularCorrelation(odf_sim, result['odf'])\n",
    "    reconstructed_signal = sh.calcdwi(sh.sphconv(result['response'], result['odf']), grad)\n",
    "    rmse = varia.rmse(dwi, reconstructed_signal, mask)\n",
    "    grid_acc_values.append(acc)\n",
    "    grid_rmses.append(rmse)\n",
    "\n",
    "grid_acc_values = np.asarray(grid_acc_values)\n",
    "grid_rmses = np.asarray(grid_rmses)"
   ]
  },
  {
   "cell_type": "code",
   "execution_count": 30,
   "metadata": {
    "collapsed": false
   },
   "outputs": [],
   "source": [
    "fig = plt.figure(figsize=(14,14))\n",
    "\n",
    "gs = fig.add_gridspec(4, 2, wspace=.2, hspace=1)\n",
    "\n",
    "for i, snr in enumerate(['10', '20', '50', r'$\\infty$']):\n",
    "\n",
    "    acc_ax = fig.add_subplot(gs[i, 0])\n",
    "\n",
    "    acc_to_plot = np.concatenate((grid_acc_values[:,i].T, acc_msmt_csd[i,None].T), axis=-1)\n",
    "\n",
    "    acc_palette = [(0, 0, 1, .6) for _ in range(acc_to_plot.shape[-1]-1)] + [(1, 160/255, 0, .6)]\n",
    "\n",
    "    sns.boxplot(np.squeeze(acc_to_plot), fliersize=0, ax=acc_ax, palette=acc_palette, width=.4, saturation=1)\n",
    "\n",
    "    acc_ax.set_xticks(range(len(ax_test)+1), ax_test + ['MSMT-CSD'])\n",
    "    acc_ax.get_xticklabels()[-1].set_rotation(90)\n",
    "    acc_ax.set_ylabel(f'SNR {snr}')\n",
    "    acc_ax.set_xlabel(r'Regularisation parameter $\\lambda$')\n",
    "    acc_ax.xaxis.set_label_coords(.5, -.3)\n",
    "\n",
    "    acc_ax.set_ylabel(f'SNR {snr}')\n",
    "    acc_ax.set_xlabel('Grid Size')\n",
    "\n",
    "    if i == 0:\n",
    "        acc_ax.set_title(f'Angular Correlation Coefficient')\n",
    "    acc_ax.set_ylim(.5, 1)\n",
    "\n",
    "    acc_rect = plt.Rectangle((2.5, 0), 1, 2, facecolor='green', alpha=.6)\n",
    "    acc_ax.add_patch(acc_rect)\n",
    "\n",
    "    res_ax = fig.add_subplot(gs[i, 1])\n",
    "\n",
    "    res_to_plot = np.concatenate((np.squeeze(grid_rmses[:,i].T), res_msmt_csd[i], noise[i, None].T), axis=-1)\n",
    "    res_palette = [(0, 0, 1, .6) for _ in range(res_to_plot.shape[-1]-2)] + [(1, 160/255, 0, .6), (0, 1, 0, .6)]\n",
    "\n",
    "    sns.boxplot(res_to_plot, fliersize=0, ax=res_ax, palette=res_palette, width=.4, saturation=1)\n",
    "\n",
    "    res_ax.set_xticks(range(len(ax_test)+2), ax_test + ['MSMT-CSD', 'Ground Truth'])\n",
    "    res_ax.get_xticklabels()[-2].set_rotation(90)\n",
    "    res_ax.get_xticklabels()[-1].set_rotation(90)\n",
    "    res_ax.set_xlabel(r'Regularisation parameter $\\lambda$')\n",
    "    res_ax.xaxis.set_label_coords(.5, -.3)\n",
    "\n",
    "    res_ax.set_xlabel('Grid Size')\n",
    "\n",
    "    res_ylim = res_ax.get_ylim()\n",
    "\n",
    "    res_rect = plt.Rectangle((2.5, res_ylim[0]), 1, res_ylim[1] - res_ylim[0], facecolor='green', alpha=.6)\n",
    "    res_ax.add_patch(res_rect)\n",
    "\n",
    "    if i == 0:\n",
    "        res_ax.set_title(f'Estimated Noise')"
   ]
  }
 ],
 "metadata": {
  "kernelspec": {
   "display_name": "Python 3 (ipykernel)",
   "language": "python",
   "name": "python3"
  },
  "language_info": {
   "codemirror_mode": {
    "name": "ipython",
    "version": 3
   },
   "file_extension": ".py",
   "mimetype": "text/x-python",
   "name": "python",
   "nbconvert_exporter": "python",
   "pygments_lexer": "ipython3",
   "version": "3.12.5"
  }
 },
 "nbformat": 4,
 "nbformat_minor": 0
}
